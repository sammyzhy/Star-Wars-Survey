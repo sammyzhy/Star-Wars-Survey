{
 "cells": [
  {
   "cell_type": "markdown",
   "metadata": {
    "collapsed": true
   },
   "source": [
    "## Star Wars Survey\n",
    "\n",
    "While waiting for Star Wars: The Force Awakens to come out, the team at FiveThirtyEight became interested in answering some questions about Star Wars fans. In particular, they wondered: does the rest of America realize that “The Empire Strikes Back” is clearly the best of the bunch?\n",
    "\n",
    "The team needed to collect data addressing this question. To do this, they surveyed Star Wars fans using the online tool SurveyMonkey. They received 835 total responses, which you download from their [GitHub repository](https://github.com/fivethirtyeight/data/tree/master/star-wars-survey).\n",
    "\n",
    "For this project, we'll be cleaning and exploring this data set."
   ]
  },
  {
   "cell_type": "code",
   "execution_count": 1,
   "metadata": {
    "collapsed": false
   },
   "outputs": [
    {
     "data": {
      "text/html": [
       "<div>\n",
       "<style scoped>\n",
       "    .dataframe tbody tr th:only-of-type {\n",
       "        vertical-align: middle;\n",
       "    }\n",
       "\n",
       "    .dataframe tbody tr th {\n",
       "        vertical-align: top;\n",
       "    }\n",
       "\n",
       "    .dataframe thead th {\n",
       "        text-align: right;\n",
       "    }\n",
       "</style>\n",
       "<table border=\"1\" class=\"dataframe\">\n",
       "  <thead>\n",
       "    <tr style=\"text-align: right;\">\n",
       "      <th></th>\n",
       "      <th>RespondentID</th>\n",
       "      <th>Have you seen any of the 6 films in the Star Wars franchise?</th>\n",
       "      <th>Do you consider yourself to be a fan of the Star Wars film franchise?</th>\n",
       "      <th>Which of the following Star Wars films have you seen? Please select all that apply.</th>\n",
       "      <th>Unnamed: 4</th>\n",
       "      <th>Unnamed: 5</th>\n",
       "      <th>Unnamed: 6</th>\n",
       "      <th>Unnamed: 7</th>\n",
       "      <th>Unnamed: 8</th>\n",
       "      <th>Please rank the Star Wars films in order of preference with 1 being your favorite film in the franchise and 6 being your least favorite film.</th>\n",
       "      <th>...</th>\n",
       "      <th>Unnamed: 28</th>\n",
       "      <th>Which character shot first?</th>\n",
       "      <th>Are you familiar with the Expanded Universe?</th>\n",
       "      <th>Do you consider yourself to be a fan of the Expanded Universe?ÂÃ¦</th>\n",
       "      <th>Do you consider yourself to be a fan of the Star Trek franchise?</th>\n",
       "      <th>Gender</th>\n",
       "      <th>Age</th>\n",
       "      <th>Household Income</th>\n",
       "      <th>Education</th>\n",
       "      <th>Location (Census Region)</th>\n",
       "    </tr>\n",
       "  </thead>\n",
       "  <tbody>\n",
       "    <tr>\n",
       "      <th>0</th>\n",
       "      <td>NaN</td>\n",
       "      <td>Response</td>\n",
       "      <td>Response</td>\n",
       "      <td>Star Wars: Episode I  The Phantom Menace</td>\n",
       "      <td>Star Wars: Episode II  Attack of the Clones</td>\n",
       "      <td>Star Wars: Episode III  Revenge of the Sith</td>\n",
       "      <td>Star Wars: Episode IV  A New Hope</td>\n",
       "      <td>Star Wars: Episode V The Empire Strikes Back</td>\n",
       "      <td>Star Wars: Episode VI Return of the Jedi</td>\n",
       "      <td>Star Wars: Episode I  The Phantom Menace</td>\n",
       "      <td>...</td>\n",
       "      <td>Yoda</td>\n",
       "      <td>Response</td>\n",
       "      <td>Response</td>\n",
       "      <td>Response</td>\n",
       "      <td>Response</td>\n",
       "      <td>Response</td>\n",
       "      <td>Response</td>\n",
       "      <td>Response</td>\n",
       "      <td>Response</td>\n",
       "      <td>Response</td>\n",
       "    </tr>\n",
       "    <tr>\n",
       "      <th>1</th>\n",
       "      <td>3.292880e+09</td>\n",
       "      <td>Yes</td>\n",
       "      <td>Yes</td>\n",
       "      <td>Star Wars: Episode I  The Phantom Menace</td>\n",
       "      <td>Star Wars: Episode II  Attack of the Clones</td>\n",
       "      <td>Star Wars: Episode III  Revenge of the Sith</td>\n",
       "      <td>Star Wars: Episode IV  A New Hope</td>\n",
       "      <td>Star Wars: Episode V The Empire Strikes Back</td>\n",
       "      <td>Star Wars: Episode VI Return of the Jedi</td>\n",
       "      <td>3</td>\n",
       "      <td>...</td>\n",
       "      <td>Very favorably</td>\n",
       "      <td>I don't understand this question</td>\n",
       "      <td>Yes</td>\n",
       "      <td>No</td>\n",
       "      <td>No</td>\n",
       "      <td>Male</td>\n",
       "      <td>18-29</td>\n",
       "      <td>NaN</td>\n",
       "      <td>High school degree</td>\n",
       "      <td>South Atlantic</td>\n",
       "    </tr>\n",
       "    <tr>\n",
       "      <th>2</th>\n",
       "      <td>3.292880e+09</td>\n",
       "      <td>No</td>\n",
       "      <td>NaN</td>\n",
       "      <td>NaN</td>\n",
       "      <td>NaN</td>\n",
       "      <td>NaN</td>\n",
       "      <td>NaN</td>\n",
       "      <td>NaN</td>\n",
       "      <td>NaN</td>\n",
       "      <td>NaN</td>\n",
       "      <td>...</td>\n",
       "      <td>NaN</td>\n",
       "      <td>NaN</td>\n",
       "      <td>NaN</td>\n",
       "      <td>NaN</td>\n",
       "      <td>Yes</td>\n",
       "      <td>Male</td>\n",
       "      <td>18-29</td>\n",
       "      <td>$0 - $24,999</td>\n",
       "      <td>Bachelor degree</td>\n",
       "      <td>West South Central</td>\n",
       "    </tr>\n",
       "    <tr>\n",
       "      <th>3</th>\n",
       "      <td>3.292765e+09</td>\n",
       "      <td>Yes</td>\n",
       "      <td>No</td>\n",
       "      <td>Star Wars: Episode I  The Phantom Menace</td>\n",
       "      <td>Star Wars: Episode II  Attack of the Clones</td>\n",
       "      <td>Star Wars: Episode III  Revenge of the Sith</td>\n",
       "      <td>NaN</td>\n",
       "      <td>NaN</td>\n",
       "      <td>NaN</td>\n",
       "      <td>1</td>\n",
       "      <td>...</td>\n",
       "      <td>Unfamiliar (N/A)</td>\n",
       "      <td>I don't understand this question</td>\n",
       "      <td>No</td>\n",
       "      <td>NaN</td>\n",
       "      <td>No</td>\n",
       "      <td>Male</td>\n",
       "      <td>18-29</td>\n",
       "      <td>$0 - $24,999</td>\n",
       "      <td>High school degree</td>\n",
       "      <td>West North Central</td>\n",
       "    </tr>\n",
       "    <tr>\n",
       "      <th>4</th>\n",
       "      <td>3.292763e+09</td>\n",
       "      <td>Yes</td>\n",
       "      <td>Yes</td>\n",
       "      <td>Star Wars: Episode I  The Phantom Menace</td>\n",
       "      <td>Star Wars: Episode II  Attack of the Clones</td>\n",
       "      <td>Star Wars: Episode III  Revenge of the Sith</td>\n",
       "      <td>Star Wars: Episode IV  A New Hope</td>\n",
       "      <td>Star Wars: Episode V The Empire Strikes Back</td>\n",
       "      <td>Star Wars: Episode VI Return of the Jedi</td>\n",
       "      <td>5</td>\n",
       "      <td>...</td>\n",
       "      <td>Very favorably</td>\n",
       "      <td>I don't understand this question</td>\n",
       "      <td>No</td>\n",
       "      <td>NaN</td>\n",
       "      <td>Yes</td>\n",
       "      <td>Male</td>\n",
       "      <td>18-29</td>\n",
       "      <td>$100,000 - $149,999</td>\n",
       "      <td>Some college or Associate degree</td>\n",
       "      <td>West North Central</td>\n",
       "    </tr>\n",
       "  </tbody>\n",
       "</table>\n",
       "<p>5 rows × 38 columns</p>\n",
       "</div>"
      ],
      "text/plain": [
       "   RespondentID Have you seen any of the 6 films in the Star Wars franchise?  \\\n",
       "0           NaN                                           Response             \n",
       "1  3.292880e+09                                                Yes             \n",
       "2  3.292880e+09                                                 No             \n",
       "3  3.292765e+09                                                Yes             \n",
       "4  3.292763e+09                                                Yes             \n",
       "\n",
       "  Do you consider yourself to be a fan of the Star Wars film franchise?  \\\n",
       "0                                           Response                      \n",
       "1                                                Yes                      \n",
       "2                                                NaN                      \n",
       "3                                                 No                      \n",
       "4                                                Yes                      \n",
       "\n",
       "  Which of the following Star Wars films have you seen? Please select all that apply.  \\\n",
       "0           Star Wars: Episode I  The Phantom Menace                                    \n",
       "1           Star Wars: Episode I  The Phantom Menace                                    \n",
       "2                                                NaN                                    \n",
       "3           Star Wars: Episode I  The Phantom Menace                                    \n",
       "4           Star Wars: Episode I  The Phantom Menace                                    \n",
       "\n",
       "                                    Unnamed: 4  \\\n",
       "0  Star Wars: Episode II  Attack of the Clones   \n",
       "1  Star Wars: Episode II  Attack of the Clones   \n",
       "2                                          NaN   \n",
       "3  Star Wars: Episode II  Attack of the Clones   \n",
       "4  Star Wars: Episode II  Attack of the Clones   \n",
       "\n",
       "                                    Unnamed: 5  \\\n",
       "0  Star Wars: Episode III  Revenge of the Sith   \n",
       "1  Star Wars: Episode III  Revenge of the Sith   \n",
       "2                                          NaN   \n",
       "3  Star Wars: Episode III  Revenge of the Sith   \n",
       "4  Star Wars: Episode III  Revenge of the Sith   \n",
       "\n",
       "                          Unnamed: 6  \\\n",
       "0  Star Wars: Episode IV  A New Hope   \n",
       "1  Star Wars: Episode IV  A New Hope   \n",
       "2                                NaN   \n",
       "3                                NaN   \n",
       "4  Star Wars: Episode IV  A New Hope   \n",
       "\n",
       "                                     Unnamed: 7  \\\n",
       "0  Star Wars: Episode V The Empire Strikes Back   \n",
       "1  Star Wars: Episode V The Empire Strikes Back   \n",
       "2                                           NaN   \n",
       "3                                           NaN   \n",
       "4  Star Wars: Episode V The Empire Strikes Back   \n",
       "\n",
       "                                 Unnamed: 8  \\\n",
       "0  Star Wars: Episode VI Return of the Jedi   \n",
       "1  Star Wars: Episode VI Return of the Jedi   \n",
       "2                                       NaN   \n",
       "3                                       NaN   \n",
       "4  Star Wars: Episode VI Return of the Jedi   \n",
       "\n",
       "  Please rank the Star Wars films in order of preference with 1 being your favorite film in the franchise and 6 being your least favorite film.  \\\n",
       "0           Star Wars: Episode I  The Phantom Menace                                                                                              \n",
       "1                                                  3                                                                                              \n",
       "2                                                NaN                                                                                              \n",
       "3                                                  1                                                                                              \n",
       "4                                                  5                                                                                              \n",
       "\n",
       "            ...                  Unnamed: 28  \\\n",
       "0           ...                         Yoda   \n",
       "1           ...               Very favorably   \n",
       "2           ...                          NaN   \n",
       "3           ...             Unfamiliar (N/A)   \n",
       "4           ...               Very favorably   \n",
       "\n",
       "        Which character shot first?  \\\n",
       "0                          Response   \n",
       "1  I don't understand this question   \n",
       "2                               NaN   \n",
       "3  I don't understand this question   \n",
       "4  I don't understand this question   \n",
       "\n",
       "  Are you familiar with the Expanded Universe?  \\\n",
       "0                                     Response   \n",
       "1                                          Yes   \n",
       "2                                          NaN   \n",
       "3                                           No   \n",
       "4                                           No   \n",
       "\n",
       "  Do you consider yourself to be a fan of the Expanded Universe?ÂÃ¦  \\\n",
       "0                                           Response                   \n",
       "1                                                 No                   \n",
       "2                                                NaN                   \n",
       "3                                                NaN                   \n",
       "4                                                NaN                   \n",
       "\n",
       "  Do you consider yourself to be a fan of the Star Trek franchise?    Gender  \\\n",
       "0                                           Response                Response   \n",
       "1                                                 No                    Male   \n",
       "2                                                Yes                    Male   \n",
       "3                                                 No                    Male   \n",
       "4                                                Yes                    Male   \n",
       "\n",
       "        Age     Household Income                         Education  \\\n",
       "0  Response             Response                          Response   \n",
       "1     18-29                  NaN                High school degree   \n",
       "2     18-29         $0 - $24,999                   Bachelor degree   \n",
       "3     18-29         $0 - $24,999                High school degree   \n",
       "4     18-29  $100,000 - $149,999  Some college or Associate degree   \n",
       "\n",
       "  Location (Census Region)  \n",
       "0                 Response  \n",
       "1           South Atlantic  \n",
       "2       West South Central  \n",
       "3       West North Central  \n",
       "4       West North Central  \n",
       "\n",
       "[5 rows x 38 columns]"
      ]
     },
     "execution_count": 1,
     "metadata": {},
     "output_type": "execute_result"
    }
   ],
   "source": [
    "import pandas as pd\n",
    "import numpy as np\n",
    "star_wars = pd.read_csv('star_wars.csv', encoding = 'ISO-8859-1')\n",
    "star_wars.head()"
   ]
  },
  {
   "cell_type": "markdown",
   "metadata": {},
   "source": [
    "The data has several columns, including:\n",
    "\n",
    "   + RespondentID - An anonymized ID for the respondent (person taking the survey)\n",
    "   + Gender - The respondent's gender\n",
    "   + Age - The respondent's age\n",
    "   + Household Income - The respondent's income\n",
    "   + Education - The respondent's education level\n",
    "   + Location (Census Region) - The respondent's location\n",
    "   + Have you seen any of the 6 films in the Star Wars franchise? - Has a Yes or No response\n",
    "   + Do you consider yourself to be a fan of the Star Wars film franchise? - Has a Yes or No response\n",
    "\n",
    "There are several other columns containing answers to questions about the Star Wars movies. For some questions, the respondent had to check one or more boxes. This type of data is difficult to represent in columnar format. As a result, this data set needs a lot of cleaning."
   ]
  },
  {
   "cell_type": "code",
   "execution_count": 2,
   "metadata": {
    "collapsed": false
   },
   "outputs": [
    {
     "data": {
      "text/plain": [
       " 3.291092e+09    1\n",
       " 3.290409e+09    1\n",
       " 3.290347e+09    1\n",
       " 3.290351e+09    1\n",
       " 3.288558e+09    1\n",
       " 3.290360e+09    1\n",
       " 3.290365e+09    1\n",
       " 3.290372e+09    1\n",
       " 3.290375e+09    1\n",
       " 3.290380e+09    1\n",
       " 3.290387e+09    1\n",
       " 3.290399e+09    1\n",
       " 3.291392e+09    1\n",
       " 3.290402e+09    1\n",
       " 3.290409e+09    1\n",
       " 3.290412e+09    1\n",
       " 3.290418e+09    1\n",
       " 3.290345e+09    1\n",
       " 3.290337e+09    1\n",
       " 3.289919e+09    1\n",
       " 3.290330e+09    1\n",
       " 3.290263e+09    1\n",
       " 3.290266e+09    1\n",
       " 3.290407e+09    1\n",
       " 3.290280e+09    1\n",
       " 3.290662e+09    1\n",
       " 3.290287e+09    1\n",
       " 3.290289e+09    1\n",
       " 3.290296e+09    1\n",
       " 3.290298e+09    1\n",
       "                ..\n",
       " 3.288591e+09    1\n",
       " 3.290655e+09    1\n",
       " 3.292719e+09    1\n",
       " 3.289446e+09    1\n",
       " 3.292731e+09    1\n",
       " 3.290597e+09    1\n",
       " 3.289532e+09    1\n",
       " 3.291023e+09    1\n",
       " 3.292765e+09    1\n",
       " 3.289986e+09    1\n",
       " 3.289598e+09    1\n",
       " 3.290651e+09    1\n",
       " 3.292664e+09    1\n",
       " 3.292654e+09    1\n",
       " 3.292581e+09    1\n",
       " 3.289553e+09    1\n",
       " 3.289726e+09    1\n",
       " 3.288640e+09    1\n",
       " 3.292565e+09    1\n",
       " 3.290639e+09    1\n",
       " 3.292573e+09    1\n",
       " 3.292583e+09    1\n",
       " 3.292640e+09    1\n",
       " 3.292587e+09    1\n",
       " 3.292597e+09    1\n",
       " 3.292609e+09    1\n",
       " 3.288423e+09    1\n",
       " 3.292635e+09    1\n",
       " 3.292638e+09    1\n",
       "NaN              1\n",
       "Name: RespondentID, Length: 1187, dtype: int64"
      ]
     },
     "execution_count": 2,
     "metadata": {},
     "output_type": "execute_result"
    }
   ],
   "source": [
    "star_wars['RespondentID'].value_counts(dropna = False)"
   ]
  },
  {
   "cell_type": "code",
   "execution_count": 4,
   "metadata": {
    "collapsed": false
   },
   "outputs": [
    {
     "data": {
      "text/html": [
       "<div>\n",
       "<style scoped>\n",
       "    .dataframe tbody tr th:only-of-type {\n",
       "        vertical-align: middle;\n",
       "    }\n",
       "\n",
       "    .dataframe tbody tr th {\n",
       "        vertical-align: top;\n",
       "    }\n",
       "\n",
       "    .dataframe thead th {\n",
       "        text-align: right;\n",
       "    }\n",
       "</style>\n",
       "<table border=\"1\" class=\"dataframe\">\n",
       "  <thead>\n",
       "    <tr style=\"text-align: right;\">\n",
       "      <th></th>\n",
       "      <th>RespondentID</th>\n",
       "      <th>Have you seen any of the 6 films in the Star Wars franchise?</th>\n",
       "      <th>Do you consider yourself to be a fan of the Star Wars film franchise?</th>\n",
       "      <th>Which of the following Star Wars films have you seen? Please select all that apply.</th>\n",
       "      <th>Unnamed: 4</th>\n",
       "      <th>Unnamed: 5</th>\n",
       "      <th>Unnamed: 6</th>\n",
       "      <th>Unnamed: 7</th>\n",
       "      <th>Unnamed: 8</th>\n",
       "      <th>Please rank the Star Wars films in order of preference with 1 being your favorite film in the franchise and 6 being your least favorite film.</th>\n",
       "      <th>...</th>\n",
       "      <th>Unnamed: 28</th>\n",
       "      <th>Which character shot first?</th>\n",
       "      <th>Are you familiar with the Expanded Universe?</th>\n",
       "      <th>Do you consider yourself to be a fan of the Expanded Universe?ÂÃ¦</th>\n",
       "      <th>Do you consider yourself to be a fan of the Star Trek franchise?</th>\n",
       "      <th>Gender</th>\n",
       "      <th>Age</th>\n",
       "      <th>Household Income</th>\n",
       "      <th>Education</th>\n",
       "      <th>Location (Census Region)</th>\n",
       "    </tr>\n",
       "  </thead>\n",
       "  <tbody>\n",
       "    <tr>\n",
       "      <th>0</th>\n",
       "      <td>NaN</td>\n",
       "      <td>Response</td>\n",
       "      <td>Response</td>\n",
       "      <td>Star Wars: Episode I  The Phantom Menace</td>\n",
       "      <td>Star Wars: Episode II  Attack of the Clones</td>\n",
       "      <td>Star Wars: Episode III  Revenge of the Sith</td>\n",
       "      <td>Star Wars: Episode IV  A New Hope</td>\n",
       "      <td>Star Wars: Episode V The Empire Strikes Back</td>\n",
       "      <td>Star Wars: Episode VI Return of the Jedi</td>\n",
       "      <td>Star Wars: Episode I  The Phantom Menace</td>\n",
       "      <td>...</td>\n",
       "      <td>Yoda</td>\n",
       "      <td>Response</td>\n",
       "      <td>Response</td>\n",
       "      <td>Response</td>\n",
       "      <td>Response</td>\n",
       "      <td>Response</td>\n",
       "      <td>Response</td>\n",
       "      <td>Response</td>\n",
       "      <td>Response</td>\n",
       "      <td>Response</td>\n",
       "    </tr>\n",
       "  </tbody>\n",
       "</table>\n",
       "<p>1 rows × 38 columns</p>\n",
       "</div>"
      ],
      "text/plain": [
       "   RespondentID Have you seen any of the 6 films in the Star Wars franchise?  \\\n",
       "0           NaN                                           Response             \n",
       "\n",
       "  Do you consider yourself to be a fan of the Star Wars film franchise?  \\\n",
       "0                                           Response                      \n",
       "\n",
       "  Which of the following Star Wars films have you seen? Please select all that apply.  \\\n",
       "0           Star Wars: Episode I  The Phantom Menace                                    \n",
       "\n",
       "                                    Unnamed: 4  \\\n",
       "0  Star Wars: Episode II  Attack of the Clones   \n",
       "\n",
       "                                    Unnamed: 5  \\\n",
       "0  Star Wars: Episode III  Revenge of the Sith   \n",
       "\n",
       "                          Unnamed: 6  \\\n",
       "0  Star Wars: Episode IV  A New Hope   \n",
       "\n",
       "                                     Unnamed: 7  \\\n",
       "0  Star Wars: Episode V The Empire Strikes Back   \n",
       "\n",
       "                                 Unnamed: 8  \\\n",
       "0  Star Wars: Episode VI Return of the Jedi   \n",
       "\n",
       "  Please rank the Star Wars films in order of preference with 1 being your favorite film in the franchise and 6 being your least favorite film.  \\\n",
       "0           Star Wars: Episode I  The Phantom Menace                                                                                              \n",
       "\n",
       "            ...            Unnamed: 28 Which character shot first?  \\\n",
       "0           ...                   Yoda                    Response   \n",
       "\n",
       "  Are you familiar with the Expanded Universe?  \\\n",
       "0                                     Response   \n",
       "\n",
       "  Do you consider yourself to be a fan of the Expanded Universe?ÂÃ¦  \\\n",
       "0                                           Response                   \n",
       "\n",
       "  Do you consider yourself to be a fan of the Star Trek franchise?    Gender  \\\n",
       "0                                           Response                Response   \n",
       "\n",
       "        Age Household Income Education Location (Census Region)  \n",
       "0  Response         Response  Response                 Response  \n",
       "\n",
       "[1 rows x 38 columns]"
      ]
     },
     "execution_count": 4,
     "metadata": {},
     "output_type": "execute_result"
    }
   ],
   "source": [
    "star_wars[star_wars['RespondentID'].isnull()]"
   ]
  },
  {
   "cell_type": "markdown",
   "metadata": {},
   "source": [
    "First, we'll need to remove the invalid rows. For example, RespondentID is supposed to be a unique ID for each respondent, but it's blank in the first row. We'll need to remove the row with an invalid RespondentID."
   ]
  },
  {
   "cell_type": "code",
   "execution_count": 6,
   "metadata": {
    "collapsed": false
   },
   "outputs": [
    {
     "data": {
      "text/plain": [
       "3.291092e+09    1\n",
       "3.290345e+09    1\n",
       "3.290351e+09    1\n",
       "3.288558e+09    1\n",
       "3.290360e+09    1\n",
       "3.290365e+09    1\n",
       "3.290372e+09    1\n",
       "3.290375e+09    1\n",
       "3.290380e+09    1\n",
       "3.290387e+09    1\n",
       "3.290399e+09    1\n",
       "3.291392e+09    1\n",
       "3.290402e+09    1\n",
       "3.290409e+09    1\n",
       "3.290412e+09    1\n",
       "3.290418e+09    1\n",
       "3.290423e+09    1\n",
       "3.290347e+09    1\n",
       "3.290409e+09    1\n",
       "3.289920e+09    1\n",
       "3.290337e+09    1\n",
       "3.290266e+09    1\n",
       "3.290407e+09    1\n",
       "3.290280e+09    1\n",
       "3.290662e+09    1\n",
       "3.290287e+09    1\n",
       "3.290289e+09    1\n",
       "3.290296e+09    1\n",
       "3.290298e+09    1\n",
       "3.290305e+09    1\n",
       "               ..\n",
       "3.288591e+09    1\n",
       "3.290655e+09    1\n",
       "3.292719e+09    1\n",
       "3.289446e+09    1\n",
       "3.292731e+09    1\n",
       "3.290597e+09    1\n",
       "3.289532e+09    1\n",
       "3.291023e+09    1\n",
       "3.292765e+09    1\n",
       "3.289986e+09    1\n",
       "3.289598e+09    1\n",
       "3.290651e+09    1\n",
       "3.292664e+09    1\n",
       "3.292654e+09    1\n",
       "3.292581e+09    1\n",
       "3.289553e+09    1\n",
       "3.289726e+09    1\n",
       "3.288640e+09    1\n",
       "3.292565e+09    1\n",
       "3.290639e+09    1\n",
       "3.292573e+09    1\n",
       "3.292583e+09    1\n",
       "3.292640e+09    1\n",
       "3.292587e+09    1\n",
       "3.292597e+09    1\n",
       "3.292609e+09    1\n",
       "3.288423e+09    1\n",
       "3.292635e+09    1\n",
       "3.292638e+09    1\n",
       "3.290768e+09    1\n",
       "Name: RespondentID, Length: 1186, dtype: int64"
      ]
     },
     "execution_count": 6,
     "metadata": {},
     "output_type": "execute_result"
    }
   ],
   "source": [
    "#Drop the row where RespondentID is NaN.\n",
    "star_wars = star_wars[star_wars['RespondentID'].notnull()]\n",
    "star_wars['RespondentID'].value_counts(dropna = False)"
   ]
  },
  {
   "cell_type": "markdown",
   "metadata": {},
   "source": [
    "## Cleaning and Mapping Yes/No Columns\n",
    "\n",
    "Now let's take a look at the next two columns, which are:\n",
    "\n",
    "   + Have you seen any of the 6 films in the Star Wars franchise?\n",
    "   + Do you consider yourself to be a fan of the Star Wars film franchise?\n",
    "\n",
    "Both represent Yes/No questions. They can also be NaN where a respondent chooses not to answer a question. Both columns are currently string types, because the main values they contain are Yes and No. We can make the data a bit easier to analyze down the road by converting each column to a Boolean having only the values True, False, and NaN. Booleans are easier to work with because we can select the rows that are True or False without having to do a string comparison."
   ]
  },
  {
   "cell_type": "code",
   "execution_count": 8,
   "metadata": {
    "collapsed": false
   },
   "outputs": [
    {
     "data": {
      "text/plain": [
       "Yes    936\n",
       "No     250\n",
       "Name: Have you seen any of the 6 films in the Star Wars franchise?, dtype: int64"
      ]
     },
     "execution_count": 8,
     "metadata": {},
     "output_type": "execute_result"
    }
   ],
   "source": [
    "star_wars['Have you seen any of the 6 films in the Star Wars franchise?'].value_counts(dropna = False)"
   ]
  },
  {
   "cell_type": "code",
   "execution_count": 9,
   "metadata": {
    "collapsed": false
   },
   "outputs": [
    {
     "data": {
      "text/plain": [
       "Yes    552\n",
       "NaN    350\n",
       "No     284\n",
       "Name: Do you consider yourself to be a fan of the Star Wars film franchise?, dtype: int64"
      ]
     },
     "execution_count": 9,
     "metadata": {},
     "output_type": "execute_result"
    }
   ],
   "source": [
    "star_wars['Do you consider yourself to be a fan of the Star Wars film franchise?'].value_counts(dropna = False)"
   ]
  },
  {
   "cell_type": "markdown",
   "metadata": {},
   "source": [
    "Now we will convert these two columns into Boolean type."
   ]
  },
  {
   "cell_type": "code",
   "execution_count": 10,
   "metadata": {
    "collapsed": false
   },
   "outputs": [
    {
     "data": {
      "text/plain": [
       "True     552\n",
       "NaN      350\n",
       "False    284\n",
       "Name: Do you consider yourself to be a fan of the Star Wars film franchise?, dtype: int64"
      ]
     },
     "execution_count": 10,
     "metadata": {},
     "output_type": "execute_result"
    }
   ],
   "source": [
    "yes_no = {'Yes': True,\n",
    "          'No': False}\n",
    "star_wars['Have you seen any of the 6 films in the Star Wars franchise?']=star_wars['Have you seen any of the 6 films in the Star Wars franchise?'].map(yes_no)\n",
    "star_wars['Do you consider yourself to be a fan of the Star Wars film franchise?']=star_wars['Do you consider yourself to be a fan of the Star Wars film franchise?'].map(yes_no)\n",
    "star_wars['Do you consider yourself to be a fan of the Star Wars film franchise?'].value_counts(dropna = False)"
   ]
  },
  {
   "cell_type": "markdown",
   "metadata": {},
   "source": [
    "## Cleaning and Mapping Checkbox Columns\n",
    "\n",
    "The next six columns represent a single checkbox question. The respondent checked off a series of boxes in response to the question: \"Which of the following Star Wars films have you seen? Please select all that apply.\"\n",
    "\n",
    "The columns for this question are:\n",
    "\n",
    "   + Which of the following Star Wars films have you seen? Please select all that apply. - Whether or not the respondent saw Star Wars: Episode I The Phantom Menace.\n",
    "   + Unnamed: 4 - Whether or not the respondent saw Star Wars: Episode II Attack of the Clones.\n",
    "   + Unnamed: 5 - Whether or not the respondent saw Star Wars: Episode III Revenge of the Sith.\n",
    "   + Unnamed: 6 - Whether or not the respondent saw Star Wars: Episode IV A New Hope.\n",
    "   + Unnamed: 7 - Whether or not the respondent saw Star Wars: Episode V The Empire Strikes Back.\n",
    "   + Unnamed: 8 - Whether or not the respondent saw Star Wars: Episode VI Return of the Jedi.\n",
    "\n",
    "For each of these columns, if the value in a cell is the name of the movie, that means the respondent saw the movie. If the value is NaN, the respondent either didn't answer or didn't see the movie. We'll assume that they didn't see the movie.\n",
    "\n",
    "We'll need to convert each of these columns to a Boolean, then rename the column something more intuitive. We can convert the values the same way we did earlier, except that we'll need to include the movie title and NaN in the mapping dictionary."
   ]
  },
  {
   "cell_type": "code",
   "execution_count": 11,
   "metadata": {
    "collapsed": false
   },
   "outputs": [
    {
     "name": "stdout",
     "output_type": "stream",
     "text": [
      "<class 'pandas.core.frame.DataFrame'>\n",
      "Int64Index: 1186 entries, 1 to 1186\n",
      "Data columns (total 38 columns):\n",
      "RespondentID                                                                                                                                     1186 non-null float64\n",
      "Have you seen any of the 6 films in the Star Wars franchise?                                                                                     1186 non-null bool\n",
      "Do you consider yourself to be a fan of the Star Wars film franchise?                                                                            836 non-null object\n",
      "Which of the following Star Wars films have you seen? Please select all that apply.                                                              673 non-null object\n",
      "Unnamed: 4                                                                                                                                       571 non-null object\n",
      "Unnamed: 5                                                                                                                                       550 non-null object\n",
      "Unnamed: 6                                                                                                                                       607 non-null object\n",
      "Unnamed: 7                                                                                                                                       758 non-null object\n",
      "Unnamed: 8                                                                                                                                       738 non-null object\n",
      "Please rank the Star Wars films in order of preference with 1 being your favorite film in the franchise and 6 being your least favorite film.    835 non-null object\n",
      "Unnamed: 10                                                                                                                                      836 non-null object\n",
      "Unnamed: 11                                                                                                                                      835 non-null object\n",
      "Unnamed: 12                                                                                                                                      836 non-null object\n",
      "Unnamed: 13                                                                                                                                      836 non-null object\n",
      "Unnamed: 14                                                                                                                                      836 non-null object\n",
      "Please state whether you view the following characters favorably, unfavorably, or are unfamiliar with him/her.                                   829 non-null object\n",
      "Unnamed: 16                                                                                                                                      831 non-null object\n",
      "Unnamed: 17                                                                                                                                      831 non-null object\n",
      "Unnamed: 18                                                                                                                                      823 non-null object\n",
      "Unnamed: 19                                                                                                                                      825 non-null object\n",
      "Unnamed: 20                                                                                                                                      814 non-null object\n",
      "Unnamed: 21                                                                                                                                      826 non-null object\n",
      "Unnamed: 22                                                                                                                                      820 non-null object\n",
      "Unnamed: 23                                                                                                                                      812 non-null object\n",
      "Unnamed: 24                                                                                                                                      827 non-null object\n",
      "Unnamed: 25                                                                                                                                      830 non-null object\n",
      "Unnamed: 26                                                                                                                                      821 non-null object\n",
      "Unnamed: 27                                                                                                                                      814 non-null object\n",
      "Unnamed: 28                                                                                                                                      826 non-null object\n",
      "Which character shot first?                                                                                                                      828 non-null object\n",
      "Are you familiar with the Expanded Universe?                                                                                                     828 non-null object\n",
      "Do you consider yourself to be a fan of the Expanded Universe?ÂÃ¦                                                                               213 non-null object\n",
      "Do you consider yourself to be a fan of the Star Trek franchise?                                                                                 1068 non-null object\n",
      "Gender                                                                                                                                           1046 non-null object\n",
      "Age                                                                                                                                              1046 non-null object\n",
      "Household Income                                                                                                                                 858 non-null object\n",
      "Education                                                                                                                                        1036 non-null object\n",
      "Location (Census Region)                                                                                                                         1043 non-null object\n",
      "dtypes: bool(1), float64(1), object(36)\n",
      "memory usage: 353.3+ KB\n"
     ]
    }
   ],
   "source": [
    "star_wars.info()"
   ]
  },
  {
   "cell_type": "code",
   "execution_count": 12,
   "metadata": {
    "collapsed": false
   },
   "outputs": [
    {
     "name": "stdout",
     "output_type": "stream",
     "text": [
      "<class 'pandas.core.frame.DataFrame'>\n",
      "Int64Index: 1186 entries, 1 to 1186\n",
      "Data columns (total 38 columns):\n",
      "RespondentID                                                                                                                                     1186 non-null float64\n",
      "Have you seen any of the 6 films in the Star Wars franchise?                                                                                     1186 non-null bool\n",
      "Do you consider yourself to be a fan of the Star Wars film franchise?                                                                            836 non-null object\n",
      "seen_1                                                                                                                                           673 non-null object\n",
      "seen_2                                                                                                                                           571 non-null object\n",
      "seen_3                                                                                                                                           550 non-null object\n",
      "seen_4                                                                                                                                           607 non-null object\n",
      "seen_5                                                                                                                                           758 non-null object\n",
      "seen_6                                                                                                                                           738 non-null object\n",
      "Please rank the Star Wars films in order of preference with 1 being your favorite film in the franchise and 6 being your least favorite film.    835 non-null object\n",
      "Unnamed: 10                                                                                                                                      836 non-null object\n",
      "Unnamed: 11                                                                                                                                      835 non-null object\n",
      "Unnamed: 12                                                                                                                                      836 non-null object\n",
      "Unnamed: 13                                                                                                                                      836 non-null object\n",
      "Unnamed: 14                                                                                                                                      836 non-null object\n",
      "Please state whether you view the following characters favorably, unfavorably, or are unfamiliar with him/her.                                   829 non-null object\n",
      "Unnamed: 16                                                                                                                                      831 non-null object\n",
      "Unnamed: 17                                                                                                                                      831 non-null object\n",
      "Unnamed: 18                                                                                                                                      823 non-null object\n",
      "Unnamed: 19                                                                                                                                      825 non-null object\n",
      "Unnamed: 20                                                                                                                                      814 non-null object\n",
      "Unnamed: 21                                                                                                                                      826 non-null object\n",
      "Unnamed: 22                                                                                                                                      820 non-null object\n",
      "Unnamed: 23                                                                                                                                      812 non-null object\n",
      "Unnamed: 24                                                                                                                                      827 non-null object\n",
      "Unnamed: 25                                                                                                                                      830 non-null object\n",
      "Unnamed: 26                                                                                                                                      821 non-null object\n",
      "Unnamed: 27                                                                                                                                      814 non-null object\n",
      "Unnamed: 28                                                                                                                                      826 non-null object\n",
      "Which character shot first?                                                                                                                      828 non-null object\n",
      "Are you familiar with the Expanded Universe?                                                                                                     828 non-null object\n",
      "Do you consider yourself to be a fan of the Expanded Universe?ÂÃ¦                                                                               213 non-null object\n",
      "Do you consider yourself to be a fan of the Star Trek franchise?                                                                                 1068 non-null object\n",
      "Gender                                                                                                                                           1046 non-null object\n",
      "Age                                                                                                                                              1046 non-null object\n",
      "Household Income                                                                                                                                 858 non-null object\n",
      "Education                                                                                                                                        1036 non-null object\n",
      "Location (Census Region)                                                                                                                         1043 non-null object\n",
      "dtypes: bool(1), float64(1), object(36)\n",
      "memory usage: 353.3+ KB\n"
     ]
    }
   ],
   "source": [
    "#Rename the column names\n",
    "dic = {'Which of the following Star Wars films have you seen? Please select all that apply.': 'seen_1',\n",
    "       'Unnamed: 4': 'seen_2',\n",
    "       'Unnamed: 5': 'seen_3',\n",
    "       'Unnamed: 6': 'seen_4',\n",
    "       'Unnamed: 7': 'seen_5',\n",
    "       'Unnamed: 8': 'seen_6'}\n",
    "star_wars = star_wars.rename(columns = dic)\n",
    "star_wars.info()"
   ]
  },
  {
   "cell_type": "markdown",
   "metadata": {},
   "source": [
    "Then we will convert the values to Boolean type."
   ]
  },
  {
   "cell_type": "code",
   "execution_count": 13,
   "metadata": {
    "collapsed": false
   },
   "outputs": [
    {
     "data": {
      "text/plain": [
       "Star Wars: Episode I  The Phantom Menace    673\n",
       "NaN                                         513\n",
       "Name: seen_1, dtype: int64"
      ]
     },
     "execution_count": 13,
     "metadata": {},
     "output_type": "execute_result"
    }
   ],
   "source": [
    "star_wars['seen_1'].value_counts(dropna = False)"
   ]
  },
  {
   "cell_type": "code",
   "execution_count": null,
   "metadata": {
    "collapsed": true
   },
   "outputs": [],
   "source": [
    "for i in range(1, 7):\n",
    "    col_name = 'seen_{}'.format(i)\n",
    "    yes_no = {star_wars[col_name].value_counts().index[0]: True,\n",
    "              np.NaN: False,\n",
    "              'No': False}\n",
    "    star_wars[col_name] = star_wars[col_name].map(yes_no) "
   ]
  },
  {
   "cell_type": "code",
   "execution_count": 21,
   "metadata": {
    "collapsed": false
   },
   "outputs": [
    {
     "data": {
      "text/plain": [
       "True     673\n",
       "False    513\n",
       "Name: seen_1, dtype: int64"
      ]
     },
     "execution_count": 21,
     "metadata": {},
     "output_type": "execute_result"
    }
   ],
   "source": [
    "star_wars['seen_1'].value_counts(dropna = False)"
   ]
  },
  {
   "cell_type": "markdown",
   "metadata": {},
   "source": [
    "Now, the columns have intuitive names, along with True and False values that indicate whether the respondent saw each of the six Star Wars movies."
   ]
  },
  {
   "cell_type": "markdown",
   "metadata": {},
   "source": [
    "## Cleaning the Ranking Columns\n",
    "\n",
    "The next six columns ask the respondent to rank the Star Wars movies in order of least favorite to most favorite. 1 means the film was the most favorite, and 6 means it was the least favorite. Each of the following columns can contain the value 1, 2, 3, 4, 5, 6, or NaN:\n",
    "\n",
    "   + Please rank the Star Wars films in order of preference with 1 being your favorite film in the franchise and 6 being your least favorite film. - How much the respondent liked Star Wars: Episode I The Phantom Menace\n",
    "   + Unnamed: 10 - How much the respondent liked Star Wars: Episode II Attack of the Clones\n",
    "   + Unnamed: 11 - How much the respondent liked Star Wars: Episode III Revenge of the Sith\n",
    "   + Unnamed: 12 - How much the respondent liked Star Wars: Episode IV A New Hope\n",
    "   + Unnamed: 13 - How much the respondent liked Star Wars: Episode V The Empire Strikes Back\n",
    "   + Unnamed: 14 - How much the respondent liked Star Wars: Episode VI Return of the Jedi\n",
    "\n",
    "Fortunately, these columns don't require a lot of cleanup. We only need to convert each column to a numeric type, though, then rename the columns so that we can tell what they represent more easily."
   ]
  },
  {
   "cell_type": "code",
   "execution_count": 22,
   "metadata": {
    "collapsed": false
   },
   "outputs": [
    {
     "name": "stdout",
     "output_type": "stream",
     "text": [
      "<class 'pandas.core.frame.DataFrame'>\n",
      "Int64Index: 1186 entries, 1 to 1186\n",
      "Data columns (total 38 columns):\n",
      "RespondentID                                                                                                      1186 non-null float64\n",
      "Have you seen any of the 6 films in the Star Wars franchise?                                                      1186 non-null bool\n",
      "Do you consider yourself to be a fan of the Star Wars film franchise?                                             836 non-null object\n",
      "seen_1                                                                                                            1186 non-null bool\n",
      "seen_2                                                                                                            1186 non-null bool\n",
      "seen_3                                                                                                            1186 non-null bool\n",
      "seen_4                                                                                                            1186 non-null bool\n",
      "seen_5                                                                                                            1186 non-null bool\n",
      "seen_6                                                                                                            1186 non-null bool\n",
      "ranking_1                                                                                                         835 non-null object\n",
      "ranking_2                                                                                                         836 non-null object\n",
      "ranking_3                                                                                                         835 non-null object\n",
      "ranking_4                                                                                                         836 non-null object\n",
      "ranking_5                                                                                                         836 non-null object\n",
      "ranking_6                                                                                                         836 non-null object\n",
      "Please state whether you view the following characters favorably, unfavorably, or are unfamiliar with him/her.    829 non-null object\n",
      "Unnamed: 16                                                                                                       831 non-null object\n",
      "Unnamed: 17                                                                                                       831 non-null object\n",
      "Unnamed: 18                                                                                                       823 non-null object\n",
      "Unnamed: 19                                                                                                       825 non-null object\n",
      "Unnamed: 20                                                                                                       814 non-null object\n",
      "Unnamed: 21                                                                                                       826 non-null object\n",
      "Unnamed: 22                                                                                                       820 non-null object\n",
      "Unnamed: 23                                                                                                       812 non-null object\n",
      "Unnamed: 24                                                                                                       827 non-null object\n",
      "Unnamed: 25                                                                                                       830 non-null object\n",
      "Unnamed: 26                                                                                                       821 non-null object\n",
      "Unnamed: 27                                                                                                       814 non-null object\n",
      "Unnamed: 28                                                                                                       826 non-null object\n",
      "Which character shot first?                                                                                       828 non-null object\n",
      "Are you familiar with the Expanded Universe?                                                                      828 non-null object\n",
      "Do you consider yourself to be a fan of the Expanded Universe?ÂÃ¦                                                213 non-null object\n",
      "Do you consider yourself to be a fan of the Star Trek franchise?                                                  1068 non-null object\n",
      "Gender                                                                                                            1046 non-null object\n",
      "Age                                                                                                               1046 non-null object\n",
      "Household Income                                                                                                  858 non-null object\n",
      "Education                                                                                                         1036 non-null object\n",
      "Location (Census Region)                                                                                          1043 non-null object\n",
      "dtypes: bool(7), float64(1), object(30)\n",
      "memory usage: 304.6+ KB\n"
     ]
    }
   ],
   "source": [
    "#Rename the column names\n",
    "dic = {'Please rank the Star Wars films in order of preference with 1 being your favorite film in the franchise and 6 being your least favorite film.': 'ranking_1',\n",
    "       'Unnamed: 10': 'ranking_2',\n",
    "       'Unnamed: 11': 'ranking_3',\n",
    "       'Unnamed: 12': 'ranking_4',\n",
    "       'Unnamed: 13': 'ranking_5',\n",
    "       'Unnamed: 14': 'ranking_6'}\n",
    "star_wars = star_wars.rename(columns = dic)\n",
    "star_wars.info()"
   ]
  },
  {
   "cell_type": "code",
   "execution_count": 25,
   "metadata": {
    "collapsed": false
   },
   "outputs": [
    {
     "name": "stdout",
     "output_type": "stream",
     "text": [
      "<class 'pandas.core.frame.DataFrame'>\n",
      "Int64Index: 1186 entries, 1 to 1186\n",
      "Data columns (total 38 columns):\n",
      "RespondentID                                                                                                      1186 non-null float64\n",
      "Have you seen any of the 6 films in the Star Wars franchise?                                                      1186 non-null bool\n",
      "Do you consider yourself to be a fan of the Star Wars film franchise?                                             836 non-null object\n",
      "seen_1                                                                                                            1186 non-null bool\n",
      "seen_2                                                                                                            1186 non-null bool\n",
      "seen_3                                                                                                            1186 non-null bool\n",
      "seen_4                                                                                                            1186 non-null bool\n",
      "seen_5                                                                                                            1186 non-null bool\n",
      "seen_6                                                                                                            1186 non-null bool\n",
      "ranking_1                                                                                                         835 non-null float64\n",
      "ranking_2                                                                                                         836 non-null float64\n",
      "ranking_3                                                                                                         835 non-null float64\n",
      "ranking_4                                                                                                         836 non-null float64\n",
      "ranking_5                                                                                                         836 non-null float64\n",
      "ranking_6                                                                                                         836 non-null float64\n",
      "Please state whether you view the following characters favorably, unfavorably, or are unfamiliar with him/her.    829 non-null object\n",
      "Unnamed: 16                                                                                                       831 non-null object\n",
      "Unnamed: 17                                                                                                       831 non-null object\n",
      "Unnamed: 18                                                                                                       823 non-null object\n",
      "Unnamed: 19                                                                                                       825 non-null object\n",
      "Unnamed: 20                                                                                                       814 non-null object\n",
      "Unnamed: 21                                                                                                       826 non-null object\n",
      "Unnamed: 22                                                                                                       820 non-null object\n",
      "Unnamed: 23                                                                                                       812 non-null object\n",
      "Unnamed: 24                                                                                                       827 non-null object\n",
      "Unnamed: 25                                                                                                       830 non-null object\n",
      "Unnamed: 26                                                                                                       821 non-null object\n",
      "Unnamed: 27                                                                                                       814 non-null object\n",
      "Unnamed: 28                                                                                                       826 non-null object\n",
      "Which character shot first?                                                                                       828 non-null object\n",
      "Are you familiar with the Expanded Universe?                                                                      828 non-null object\n",
      "Do you consider yourself to be a fan of the Expanded Universe?ÂÃ¦                                                213 non-null object\n",
      "Do you consider yourself to be a fan of the Star Trek franchise?                                                  1068 non-null object\n",
      "Gender                                                                                                            1046 non-null object\n",
      "Age                                                                                                               1046 non-null object\n",
      "Household Income                                                                                                  858 non-null object\n",
      "Education                                                                                                         1036 non-null object\n",
      "Location (Census Region)                                                                                          1043 non-null object\n",
      "dtypes: bool(7), float64(7), object(24)\n",
      "memory usage: 304.6+ KB\n"
     ]
    }
   ],
   "source": [
    "#Convert the values to numeric type\n",
    "star_wars.iloc[:, 9:15] = star_wars.iloc[:, 9:15].astype(float)\n",
    "star_wars.info()"
   ]
  },
  {
   "cell_type": "markdown",
   "metadata": {},
   "source": [
    "## Finding the Highest-Ranked Movie\n",
    "\n",
    "Now that we've cleaned up the ranking columns, we can find the highest-ranked movie more quickly."
   ]
  },
  {
   "cell_type": "code",
   "execution_count": 27,
   "metadata": {
    "collapsed": false
   },
   "outputs": [
    {
     "name": "stdout",
     "output_type": "stream",
     "text": [
      "ranking_1    3.732934\n",
      "ranking_2    4.087321\n",
      "ranking_3    4.341317\n",
      "ranking_4    3.272727\n",
      "ranking_5    2.513158\n",
      "ranking_6    3.047847\n",
      "dtype: float64\n"
     ]
    }
   ],
   "source": [
    "#Compute the mean of each of the ranking columns.\n",
    "star_wars_mean = star_wars.iloc[:, 9:15].mean()\n",
    "print(star_wars_mean)"
   ]
  },
  {
   "cell_type": "code",
   "execution_count": 28,
   "metadata": {
    "collapsed": false
   },
   "outputs": [
    {
     "data": {
      "text/plain": [
       "<matplotlib.axes._subplots.AxesSubplot at 0x7f9230fefef0>"
      ]
     },
     "execution_count": 28,
     "metadata": {},
     "output_type": "execute_result"
    },
    {
     "data": {
      "image/png": "[encoded data removed]",
      "text/plain": [
       "<matplotlib.figure.Figure at 0x7f92328ef748>"
      ]
     },
     "metadata": {},
     "output_type": "display_data"
    }
   ],
   "source": [
    "#Make a bar chart of each ranking\n",
    "%matplotlib inline\n",
    "star_wars_mean.plot.bar()"
   ]
  },
  {
   "cell_type": "markdown",
   "metadata": {},
   "source": [
    "Remeber that a lower ranking is better. So Star Wars: Episode V The Empire Strikes Back got the first ranking, while the least people ranked Star Wars: Episode III Revenge of the Sith as their favorite. "
   ]
  },
  {
   "cell_type": "markdown",
   "metadata": {},
   "source": [
    "## Finding the Most Viewed Movie\n",
    "\n",
    "Earlier in this project, we cleaned up the seen columns and converted their values to the Boolean type. When we call methods like sum() or mean(), they treat Booleans like integers. They consider True a 1, and False a 0. That means we can figure out how many people have seen each movie just by taking the sum of the column (even though they contain Boolean values)."
   ]
  },
  {
   "cell_type": "code",
   "execution_count": 29,
   "metadata": {
    "collapsed": false
   },
   "outputs": [
    {
     "data": {
      "text/plain": [
       "<matplotlib.axes._subplots.AxesSubplot at 0x7f922ed54320>"
      ]
     },
     "execution_count": 29,
     "metadata": {},
     "output_type": "execute_result"
    },
    {
     "data": {
      "image/png": "[encoded data removed]",
      "text/plain": [
       "<matplotlib.figure.Figure at 0x7f92328efa20>"
      ]
     },
     "metadata": {},
     "output_type": "display_data"
    }
   ],
   "source": [
    "#Compute the sum of each of the seen columns\n",
    "seen_sum = star_wars.iloc[:, 3:9].sum()\n",
    "seen_sum.plot.barh()"
   ]
  },
  {
   "cell_type": "markdown",
   "metadata": {},
   "source": [
    "This plot shows that most people watched the fifth and sixth episodes, while the third episode is least popular. This is consistent with our previous finding about the ranking. The ranking of the fifth episode is the highest, so the most people like to watch it."
   ]
  },
  {
   "cell_type": "markdown",
   "metadata": {},
   "source": [
    "## Exploring the Data by Binary Segments\n",
    "\n",
    "We know which movies the survey population as a whole has ranked the highest. Now let's examine how certain segments of the survey population responded. These results are probably differnt for different groups, such as males and females. We can split the dataframe into two groups based on a binary column by creating two subsets of that column. The subsets will allow us to compute the most viewed movie, the highest-ranked movie, and other statistics separately for each group."
   ]
  },
  {
   "cell_type": "code",
   "execution_count": 30,
   "metadata": {
    "collapsed": false
   },
   "outputs": [
    {
     "data": {
      "text/plain": [
       "Female    549\n",
       "Male      497\n",
       "NaN       140\n",
       "Name: Gender, dtype: int64"
      ]
     },
     "execution_count": 30,
     "metadata": {},
     "output_type": "execute_result"
    }
   ],
   "source": [
    "star_wars['Gender'].value_counts(dropna = False)"
   ]
  },
  {
   "cell_type": "code",
   "execution_count": 31,
   "metadata": {
    "collapsed": false
   },
   "outputs": [
    {
     "name": "stdout",
     "output_type": "stream",
     "text": [
      "<class 'pandas.core.frame.DataFrame'>\n",
      "Int64Index: 497 entries, 1 to 1178\n",
      "Data columns (total 38 columns):\n",
      "RespondentID                                                                                                      497 non-null float64\n",
      "Have you seen any of the 6 films in the Star Wars franchise?                                                      497 non-null bool\n",
      "Do you consider yourself to be a fan of the Star Wars film franchise?                                             423 non-null object\n",
      "seen_1                                                                                                            497 non-null bool\n",
      "seen_2                                                                                                            497 non-null bool\n",
      "seen_3                                                                                                            497 non-null bool\n",
      "seen_4                                                                                                            497 non-null bool\n",
      "seen_5                                                                                                            497 non-null bool\n",
      "seen_6                                                                                                            497 non-null bool\n",
      "ranking_1                                                                                                         423 non-null float64\n",
      "ranking_2                                                                                                         423 non-null float64\n",
      "ranking_3                                                                                                         422 non-null float64\n",
      "ranking_4                                                                                                         423 non-null float64\n",
      "ranking_5                                                                                                         423 non-null float64\n",
      "ranking_6                                                                                                         423 non-null float64\n",
      "Please state whether you view the following characters favorably, unfavorably, or are unfamiliar with him/her.    419 non-null object\n",
      "Unnamed: 16                                                                                                       420 non-null object\n",
      "Unnamed: 17                                                                                                       421 non-null object\n",
      "Unnamed: 18                                                                                                       415 non-null object\n",
      "Unnamed: 19                                                                                                       416 non-null object\n",
      "Unnamed: 20                                                                                                       414 non-null object\n",
      "Unnamed: 21                                                                                                       416 non-null object\n",
      "Unnamed: 22                                                                                                       415 non-null object\n",
      "Unnamed: 23                                                                                                       414 non-null object\n",
      "Unnamed: 24                                                                                                       418 non-null object\n",
      "Unnamed: 25                                                                                                       420 non-null object\n",
      "Unnamed: 26                                                                                                       416 non-null object\n",
      "Unnamed: 27                                                                                                       413 non-null object\n",
      "Unnamed: 28                                                                                                       416 non-null object\n",
      "Which character shot first?                                                                                       423 non-null object\n",
      "Are you familiar with the Expanded Universe?                                                                      423 non-null object\n",
      "Do you consider yourself to be a fan of the Expanded Universe?ÂÃ¦                                                144 non-null object\n",
      "Do you consider yourself to be a fan of the Star Trek franchise?                                                  497 non-null object\n",
      "Gender                                                                                                            497 non-null object\n",
      "Age                                                                                                               497 non-null object\n",
      "Household Income                                                                                                  415 non-null object\n",
      "Education                                                                                                         491 non-null object\n",
      "Location (Census Region)                                                                                          494 non-null object\n",
      "dtypes: bool(7), float64(7), object(24)\n",
      "memory usage: 127.6+ KB\n"
     ]
    }
   ],
   "source": [
    "males = star_wars[star_wars['Gender'] == 'Male']\n",
    "females = star_wars[star_wars['Gender'] == 'Female']\n",
    "males.info()"
   ]
  },
  {
   "cell_type": "markdown",
   "metadata": {},
   "source": [
    "Now we can compute the most viewed movie and  the hightest-ranked movie for each group."
   ]
  },
  {
   "cell_type": "code",
   "execution_count": 33,
   "metadata": {
    "collapsed": false
   },
   "outputs": [
    {
     "data": {
      "text/plain": [
       "<matplotlib.axes._subplots.AxesSubplot at 0x7f922ebf8160>"
      ]
     },
     "execution_count": 33,
     "metadata": {},
     "output_type": "execute_result"
    },
    {
     "data": {
      "image/png": "[encoded data removed]",
      "text/plain": [
       "<matplotlib.figure.Figure at 0x7f922ebdb518>"
      ]
     },
     "metadata": {},
     "output_type": "display_data"
    }
   ],
   "source": [
    "male_mean = males.iloc[:, 9:15].mean()\n",
    "male_mean.plot.bar()"
   ]
  },
  {
   "cell_type": "code",
   "execution_count": 34,
   "metadata": {
    "collapsed": false
   },
   "outputs": [
    {
     "data": {
      "text/plain": [
       "<matplotlib.axes._subplots.AxesSubplot at 0x7f922eb2b6d8>"
      ]
     },
     "execution_count": 34,
     "metadata": {},
     "output_type": "execute_result"
    },
    {
     "data": {
      "image/png": "[encoded data removed]",
      "text/plain": [
       "<matplotlib.figure.Figure at 0x7f922eaf6278>"
      ]
     },
     "metadata": {},
     "output_type": "display_data"
    }
   ],
   "source": [
    "male_sum = males.iloc[:, 3:9].sum()\n",
    "male_sum.plot.barh()"
   ]
  },
  {
   "cell_type": "markdown",
   "metadata": {},
   "source": [
    "The ranking result and viewing population are the same with the whole dataframe. Then, we'll analyze the data for female group."
   ]
  },
  {
   "cell_type": "code",
   "execution_count": 35,
   "metadata": {
    "collapsed": false
   },
   "outputs": [
    {
     "data": {
      "text/plain": [
       "<matplotlib.axes._subplots.AxesSubplot at 0x7f922ecc97b8>"
      ]
     },
     "execution_count": 35,
     "metadata": {},
     "output_type": "execute_result"
    },
    {
     "data": {
      "image/png": "[encoded data removed]",
      "text/plain": [
       "<matplotlib.figure.Figure at 0x7f922ea715f8>"
      ]
     },
     "metadata": {},
     "output_type": "display_data"
    }
   ],
   "source": [
    "female_mean = females.iloc[:, 9:15].mean()\n",
    "female_mean.plot.bar()"
   ]
  },
  {
   "cell_type": "code",
   "execution_count": 36,
   "metadata": {
    "collapsed": false
   },
   "outputs": [
    {
     "data": {
      "text/plain": [
       "<matplotlib.axes._subplots.AxesSubplot at 0x7f922ea98d30>"
      ]
     },
     "execution_count": 36,
     "metadata": {},
     "output_type": "execute_result"
    },
    {
     "data": {
      "image/png": "[encoded data removed]",
      "text/plain": [
       "<matplotlib.figure.Figure at 0x7f922ea65438>"
      ]
     },
     "metadata": {},
     "output_type": "display_data"
    }
   ],
   "source": [
    "female_sum = females.iloc[:, 3:9].sum()\n",
    "female_sum.plot.barh()"
   ]
  },
  {
   "cell_type": "markdown",
   "metadata": {},
   "source": [
    "Surprisingly, there is almost no different for the preference of the star wars series between males and females."
   ]
  },
  {
   "cell_type": "markdown",
   "metadata": {},
   "source": [
    "That's it for the current project. There are also some other columns we can conduct analysis. We can try to segment the data based on columns like \"Education\", \"Location (Census Region)\", and \"Which character shot first?\", which aren't binary. To explore are there any interesting patterns. We will probably do this later."
   ]
  }
 ],
 "metadata": {
  "kernelspec": {
   "display_name": "Python 3",
   "language": "python",
   "name": "python3"
  },
  "language_info": {
   "codemirror_mode": {
    "name": "ipython",
    "version": 3
   },
   "file_extension": ".py",
   "mimetype": "text/x-python",
   "name": "python",
   "nbconvert_exporter": "python",
   "pygments_lexer": "ipython3",
   "version": "3.4.3"
  }
 },
 "nbformat": 4,
 "nbformat_minor": 0
}
